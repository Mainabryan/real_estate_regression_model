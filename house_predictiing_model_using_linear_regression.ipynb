{
  "nbformat": 4,
  "nbformat_minor": 0,
  "metadata": {
    "colab": {
      "provenance": [],
      "authorship_tag": "ABX9TyMZtwOcd3vQ48Pdn+wuUs8K",
      "include_colab_link": true
    },
    "kernelspec": {
      "name": "python3",
      "display_name": "Python 3"
    },
    "language_info": {
      "name": "python"
    }
  },
  "cells": [
    {
      "cell_type": "markdown",
      "metadata": {
        "id": "view-in-github",
        "colab_type": "text"
      },
      "source": [
        "<a href=\"https://colab.research.google.com/github/Mainabryan/real_estate_regression_model/blob/main/house_predictiing_model_using_linear_regression.ipynb\" target=\"_parent\"><img src=\"https://colab.research.google.com/assets/colab-badge.svg\" alt=\"Open In Colab\"/></a>"
      ]
    },
    {
      "cell_type": "markdown",
      "source": [
        "##Regression Challenge\n",
        "\n",
        "Predicting the selling price of a residential property depends on a number of factors, including the property age, availability of local amenities, and location.\n",
        "\n",
        "In this challenge, you will use a dataset of real estate sales transactions to predict the price-per-unit of a property based on its features. The price-per-unit in this data is based on a unit measurement of 3.3 square meters.\n",
        "\n",
        "    Citation: The data used in this exercise originates from the following study:\n",
        "\n",
        "    Yeh, I. C., & Hsu, T. K. (2018). Building real estate valuation models with comparative approach through case-based reasoning. Applied Soft Computing, 65, 260-271.\n",
        "\n",
        "    It was obtained from the UCI dataset repository (Dua, D. and Graff, C. (2019). UCI Machine Learning Repository. Irvine, CA: University of California, School of Information and Computer Science).\n"
      ],
      "metadata": {
        "id": "COa2Dj_t4r7u"
      }
    },
    {
      "cell_type": "markdown",
      "source": [
        "## Review the data\n",
        "\n",
        "Run the following cell to load the data and view the first few rows.\n",
        "\n",
        "The data consists of the following variables:\n",
        "\n",
        "    transaction_date - the transaction date (for example, 2013.250=2013 March, 2013.500=2013 June, etc.)\n",
        "    house_age - the house age (in years)\n",
        "    transit_distance - the distance to the nearest light rail station (in meters)\n",
        "    local_convenience_stores - the number of convenience stores within walking distance\n",
        "    latitude - the geographic coordinate, latitude\n",
        "    longitude - the geographic coordinate, longitude\n",
        "    price_per_unit house price of unit area (3.3 square meters)\n"
      ],
      "metadata": {
        "id": "cVVVKzub40x1"
      }
    },
    {
      "cell_type": "markdown",
      "source": [
        "##Train a Regression Model\n",
        "Your challenge is to explore and prepare the data, identify predictive features that will help predict the price_per_unit label, and train a regression model\n",
        "\n",
        "that achieves the lowest Root Mean Square Error (RMSE) you can achieve (which must be less than 7) when evaluated against a test subset of data.\n",
        "\n",
        "Add markdown and code cells as required to create your solution."
      ],
      "metadata": {
        "id": "2xn5cvaE5C1S"
      }
    },
    {
      "cell_type": "markdown",
      "source": [
        "# steps going to take place in these whole project /overview\n",
        "Import necessary libraries\n",
        "\n",
        "Load the dataset (from upload or Google Drive)\n",
        "\n",
        "Inspect the data (head, info, describe, check nulls)\n",
        "\n",
        "Clean the data (handle missing values, duplicates, datatypes)\n",
        "\n",
        "Encode categorical variables (label or one-hot encoding)\n",
        "\n",
        "Scale/normalize features (if needed)\n",
        "\n",
        "Split the data into training and testing sets\n",
        "\n",
        "Train the machine learning model\n",
        "\n",
        "Evaluate the model’s performance\n",
        "\n",
        "Save or deploy the model (optional)"
      ],
      "metadata": {
        "id": "WJprWgOf5biT"
      }
    },
    {
      "cell_type": "markdown",
      "source": [
        "# import necesarry librarires"
      ],
      "metadata": {
        "id": "a2iuUrFo5_Yx"
      }
    },
    {
      "cell_type": "code",
      "execution_count": null,
      "metadata": {
        "id": "hS8llHyE3rs3"
      },
      "outputs": [],
      "source": [
        "# import the required libraries\n",
        "import pandas as pd\n",
        "import numpy as np\n",
        "import matplotlib.pyplot as plt\n",
        "import seaborn as sns\n",
        "from sklearn.model_selection import train_test_split\n",
        "from sklearn.linear_model import LinearRegression\n",
        "from sklearn.metrics import mean_squared_error,mean_absolute_error,r2_score\n"
      ]
    }
  ]
}